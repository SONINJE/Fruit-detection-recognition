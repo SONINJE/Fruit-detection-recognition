{
  "nbformat": 4,
  "nbformat_minor": 0,
  "metadata": {
    "colab": {
      "name": "YOLO xml to txt ",
      "provenance": [],
      "toc_visible": true,
      "authorship_tag": "ABX9TyM62uq/n1gYoCMYnk8oEN0r",
      "include_colab_link": true
    },
    "kernelspec": {
      "name": "python3",
      "display_name": "Python 3"
    },
    "language_info": {
      "name": "python"
    }
  },
  "cells": [
    {
      "cell_type": "markdown",
      "metadata": {
        "id": "view-in-github",
        "colab_type": "text"
      },
      "source": [
        "<a href=\"https://colab.research.google.com/github/SONINJE/Fruit-detection-recognition/blob/main/YOLO_xml_to_txt.ipynb\" target=\"_parent\"><img src=\"https://colab.research.google.com/assets/colab-badge.svg\" alt=\"Open In Colab\"/></a>"
      ]
    },
    {
      "cell_type": "code",
      "source": [
        "import os, sys \n",
        "from google.colab import drive \n",
        "\n",
        "drive.mount('/content/drive')\n"
      ],
      "metadata": {
        "id": "DhMs2ZxmRdlQ"
      },
      "execution_count": null,
      "outputs": []
    },
    {
      "cell_type": "code",
      "source": [
        "cd /content/drive/MyDrive/Colab Notebooks/Yolov3"
      ],
      "metadata": {
        "id": "mr6dlWMoRe9Q"
      },
      "execution_count": null,
      "outputs": []
    },
    {
      "cell_type": "code",
      "source": [
        "pip install numpy==1.19.0"
      ],
      "metadata": {
        "id": "m-sMqflcRgQb"
      },
      "execution_count": null,
      "outputs": []
    },
    {
      "cell_type": "code",
      "execution_count": 1,
      "metadata": {
        "colab": {
          "base_uri": "https://localhost:8080/"
        },
        "id": "luRGclur8qJ3",
        "outputId": "47bf4b29-10d0-4cce-d9f5-2e1bef90f8b0"
      },
      "outputs": [
        {
          "output_type": "stream",
          "name": "stdout",
          "text": [
            "Finished processing: train\n",
            "Finished processing: val\n"
          ]
        }
      ],
      "source": [
        "import os\n",
        "import glob\n",
        "import csv\n",
        "import xml.etree.ElementTree as ET\n",
        "\n",
        "os.chdir(r'/content/drive/MyDrive/Colab Notebooks/Yolov3/fruit/train')\n",
        "path = r'/content/drive/MyDrive/Colab Notebooks/Yolov3/fruit/train'\n",
        "\n",
        "def xml_to_txt(path):\n",
        "    txt_list = []\n",
        "    for xml_file in glob.glob(path + '/*.xml'):\n",
        "        everyrow_xml_list = []\n",
        "        tree = ET.parse(xml_file)\n",
        "        root = tree.getroot()\n",
        "        everyrow_xml_list.append(path + '/' + root.find('filename').text)\n",
        "        for member in root.findall('object'):\n",
        "            xmin = str(int(member[4][0].text))\n",
        "            ymin = str(int(member[4][1].text))\n",
        "            xmax = str(int(member[4][2].text))\n",
        "            ymax = str(int(member[4][3].text))\n",
        "            if xmin==\"0\":\n",
        "                xmin=\"1\"\n",
        "            if ymin==\"0\":\n",
        "                ymin=\"1\"\n",
        "            if xmax==\"0\":\n",
        "                xmax=\"1\"\n",
        "            if ymax==\"0\":\n",
        "                ymax=\"1\"\n",
        "            value = xmin+','+ymin+','+xmax+','+ymax+','+member[0].text\n",
        "            everyrow_xml_list.append(value)\n",
        "        txt_list.append(everyrow_xml_list)#image_path x_min,y_min,x_max,y_max,class_id  x_min,y_min,x_max,y_max,class_id ……\n",
        "    return txt_list\n",
        "\n",
        "\n",
        "\n",
        "def main():\n",
        "    image_path = path\n",
        "    xml2txt_list = xml_to_txt(image_path)\n",
        "    with open(r'/content/drive/MyDrive/Colab Notebooks/Yolov3/fruit/train.txt', 'w', newline='', encoding='utf-8') as f:\n",
        "        writer = csv.writer(f,delimiter=' ')\n",
        "        writer.writerows(xml2txt_list)\n",
        "    print('Successfully converted xml to txt.')\n",
        "\n",
        "if __name__ == '__main__':\n",
        "    main()"
      ]
    },
    {
      "cell_type": "code",
      "source": [
        "import os\n",
        "import glob\n",
        "import csv\n",
        "import xml.etree.ElementTree as ET\n",
        "\n",
        "os.chdir(r'/content/drive/MyDrive/Colab Notebooks/Yolov3/fruit/test')\n",
        "path = r'/content/drive/MyDrive/Colab Notebooks/Yolov3/fruit/test'\n",
        "\n",
        "def xml_to_txt(path):\n",
        "    txt_list = []\n",
        "    for xml_file in glob.glob(path + '/*.xml'):\n",
        "        everyrow_xml_list = []\n",
        "        tree = ET.parse(xml_file)\n",
        "        root = tree.getroot()\n",
        "        everyrow_xml_list.append(path + '/' + root.find('filename').text)\n",
        "        for member in root.findall('object'):\n",
        "            xmin = str(int(member[4][0].text))\n",
        "            ymin = str(int(member[4][1].text))\n",
        "            xmax = str(int(member[4][2].text))\n",
        "            ymax = str(int(member[4][3].text))\n",
        "            if xmin==\"0\":\n",
        "                xmin=\"1\"\n",
        "            if ymin==\"0\":\n",
        "                ymin=\"1\"\n",
        "            if xmax==\"0\":\n",
        "                xmax=\"1\"\n",
        "            if ymax==\"0\":\n",
        "                ymax=\"1\"\n",
        "            value = xmin+','+ymin+','+xmax+','+ymax+','+member[0].text\n",
        "            everyrow_xml_list.append(value)\n",
        "        txt_list.append(everyrow_xml_list)#image_path x_min,y_min,x_max,y_max,class_id  x_min,y_min,x_max,y_max,class_id ……\n",
        "    return txt_list\n",
        "\n",
        "\n",
        "\n",
        "def main():\n",
        "    image_path = path\n",
        "    xml2txt_list = xml_to_txt(image_path)\n",
        "    with open(r'/content/drive/MyDrive/Colab Notebooks/Yolov3/fruit/test.txt', 'w', newline='', encoding='utf-8') as f:\n",
        "        writer = csv.writer(f,delimiter=' ')\n",
        "        writer.writerows(xml2txt_list)\n",
        "    print('Successfully converted xml to txt.')\n",
        "\n",
        "if __name__ == '__main__':\n",
        "    main()"
      ],
      "metadata": {
        "id": "3zN2lnQCRUW5"
      },
      "execution_count": null,
      "outputs": []
    }
  ]
}